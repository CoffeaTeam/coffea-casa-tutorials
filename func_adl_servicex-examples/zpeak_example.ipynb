{
 "cells": [
  {
   "cell_type": "code",
   "execution_count": 1,
   "id": "d99d8fdc-65f4-4154-b022-c2ae44da5927",
   "metadata": {},
   "outputs": [],
   "source": [
    "import pandas as pd\n",
    "import servicex as sx\n",
    "import awkward as ak\n",
    "from func_adl_servicex import ServiceXSourceUpROOT\n",
    "import matplotlib.pyplot as plt"
   ]
  },
  {
   "cell_type": "code",
   "execution_count": 2,
   "id": "4751fb52-bcff-4081-a635-0ef8823518e6",
   "metadata": {},
   "outputs": [
    {
     "data": {
      "application/vnd.jupyter.widget-view+json": {
       "model_id": "",
       "version_major": 2,
       "version_minor": 0
      },
      "text/plain": [
       "cms:DYJetsToLL_M-50_...:   0%|          | 0/9000000000.0 [00:00]"
      ]
     },
     "metadata": {},
     "output_type": "display_data"
    },
    {
     "data": {
      "application/vnd.jupyter.widget-view+json": {
       "model_id": "",
       "version_major": 2,
       "version_minor": 0
      },
      "text/plain": [
       "        cms:DYJetsToLL_M-50_... Downloaded:   0%|          | 0/9000000000.0 [00:00]"
      ]
     },
     "metadata": {},
     "output_type": "display_data"
    }
   ],
   "source": [
    "dataset_name = \"cms:DYJetsToLL_M-50_TuneCP5_13TeV-amcatnloFXFX-pythia8/RunIIAutumn18NanoAODv7-Nano02Apr2020_102X_upgrade2018_realistic_v21_ext2-v1/NANOAODSIM\"\n",
    "sx_dataset = sx.ServiceXDataset(dataset_name, \"uproot\")\n",
    "ds = ServiceXSourceUpROOT(sx_dataset, \"Events\")\n",
    "dimu_mass = ds.Where(lambda event: event.nMuon == 2)\\\n",
    "                        .Select(lambda event: Zip({'p4': Zip({'pt':   event.Muon_pt,\n",
    "                                                               'eta':  event.Muon_eta,\n",
    "                                                               'phi':  event.Muon_phi,\n",
    "                                                               'mass': event.Muon_mass}).ToFourMomenta(),\n",
    "                                                    'charge': event.Muon_charge})\n",
    "                                               .Choose(2)\n",
    "                                               .Where(lambda dimu: dimu[0].charge * dimu[1].charge < 0)\n",
    "                                               .Select(lambda dimu: (dimu[0].p4 + dimu[1].p4).mass)).AsAwkwardArray().value()"
   ]
  },
  {
   "cell_type": "code",
   "execution_count": 3,
   "id": "16f57639-1873-4f0b-b957-1e3d016ad5d7",
   "metadata": {},
   "outputs": [
    {
     "data": {
      "text/plain": [
       "<Array [[90.6], [71.5], ... [88.4], [87.3]] type='32974713 * var * float32'>"
      ]
     },
     "execution_count": 3,
     "metadata": {},
     "output_type": "execute_result"
    }
   ],
   "source": [
    "dimu_mass"
   ]
  },
  {
   "cell_type": "code",
   "execution_count": 4,
   "id": "771c39bc-a7fc-4358-ad39-16f407745f44",
   "metadata": {},
   "outputs": [
    {
     "data": {
      "image/png": "[encoded data removed]",
      "text/plain": [
       "<Figure size 432x288 with 1 Axes>"
      ]
     },
     "metadata": {
      "needs_background": "light"
     },
     "output_type": "display_data"
    }
   ],
   "source": [
    "plt.hist(ak.flatten(dimu_mass), bins=100, range=(0, 100))\n",
    "plt.xlabel(r'$\\mu\\mu$ Mass [GeV]')\n",
    "plt.ylabel('Events')\n",
    "plt.show()"
   ]
  },
  {
   "cell_type": "code",
   "execution_count": null,
   "id": "8f58e849-0e59-48ac-90a2-593c1ff5c5f1",
   "metadata": {},
   "outputs": [],
   "source": []
  }
 ],
 "metadata": {
  "kernelspec": {
   "display_name": "Python 3 (ipykernel)",
   "language": "python",
   "name": "python3"
  },
  "language_info": {
   "codemirror_mode": {
    "name": "ipython",
    "version": 3
   },
   "file_extension": ".py",
   "mimetype": "text/x-python",
   "name": "python",
   "nbconvert_exporter": "python",
   "pygments_lexer": "ipython3",
   "version": "3.8.12"
  }
 },
 "nbformat": 4,
 "nbformat_minor": 5
}
