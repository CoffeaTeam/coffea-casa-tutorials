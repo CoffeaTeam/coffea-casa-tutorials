{
 "cells": [
  {
   "cell_type": "code",
   "execution_count": 1,
   "id": "6e97ee83-f8ce-4d1e-9677-74bc0319aba0",
   "metadata": {},
   "outputs": [],
   "source": [
    "import uproot\n",
    "import awkward as ak\n",
    "from coffea.nanoevents import NanoEventsFactory, NanoAODSchema\n",
    "from coffea import processor, hist"
   ]
  },
  {
   "cell_type": "code",
   "execution_count": 2,
   "id": "abf0380e-8afb-4e97-837f-d210b3a3c3ff",
   "metadata": {},
   "outputs": [],
   "source": [
    "import os, shutil\n",
    "\n",
    "if not os.path.isfile(\"nano_dy.parquet\"):\n",
    "    ak.to_parquet(\n",
    "        uproot.lazy(\"nano_dy.root:Events\"),\n",
    "        \"nano_dy.parquet\",\n",
    "        list_to32=True,\n",
    "        use_dictionary=False,\n",
    "        compression=\"GZIP\",\n",
    "        compression_level=1,\n",
    "    )\n",
    "\n",
    "if not os.path.isfile(\"nano_dimuon.parquet\"):\n",
    "    ak.to_parquet(\n",
    "        uproot.lazy(\"nano_dimuon.root:Events\"),\n",
    "        \"nano_dimuon.parquet\",\n",
    "        list_to32=True,\n",
    "        use_dictionary=False,\n",
    "        compression=\"GZIP\",\n",
    "        compression_level=1,\n",
    "    )\n",
    "    \n",
    "if not os.path.isdir(\"/mnt/cephfs/nanoevents/ZJets\"):\n",
    "    os.makedirs(\"/mnt/cephfs/nanoevents/ZJets\")\n",
    "    for i in range(2):\n",
    "        shutil.copyfile('nano_dy.parquet', '/mnt/cephfs/nanoevents/ZJets/nano_dy.{}.parquet'.format(i))\n",
    "        \n",
    "    \n",
    "if not os.path.isdir(\"/mnt/cephfs/nanoevents/Data\"):\n",
    "    os.makedirs(\"/mnt/cephfs/nanoevents/Data\")\n",
    "    for i in range(2):\n",
    "        shutil.copyfile('nano_dimuon.parquet', '/mnt/cephfs/nanoevents/Data/nano_dimuon.{}.parquet'.format(i))"
   ]
  },
  {
   "cell_type": "code",
   "execution_count": 3,
   "id": "88d547c3-2cfd-4ac7-8fc6-e6d7bdd4c678",
   "metadata": {},
   "outputs": [
    {
     "name": "stderr",
     "output_type": "stream",
     "text": [
      "/opt/conda/lib/python3.8/site-packages/coffea/nanoevents/schemas/nanoaod.py:193: RuntimeWarning: Missing cross-reference index for FatJet_genJetAK8Idx => GenJetAK8\n",
      "  warnings.warn(\n"
     ]
    },
    {
     "data": {
      "text/plain": [
       "array([76.75331879, 20.13140869, 31.03870392, 50.64134216, 14.33010292,\n",
       "       16.72498322, 13.90806293, 46.49888611, 40.66781235, 51.4357605 ,\n",
       "       39.5927887 , 38.89543152, 33.71282196, 17.08279228, 14.52699471,\n",
       "        4.3605423 , 10.11770916, 17.94991875])"
      ]
     },
     "execution_count": 3,
     "metadata": {},
     "output_type": "execute_result"
    }
   ],
   "source": [
    "events_skyhook = NanoEventsFactory.from_parquet(\"/mnt/cephfs/nanoevents/ZJets/nano_dy.0.parquet\", \n",
    "                                                skyhook_options = {\"ceph_config_path\": \"/opt/ceph/ceph.conf\", \n",
    "                                                                   \"ceph_data_pool\": \"cephfs-data0\"}\n",
    "                                               ).events()\n",
    "ak.flatten([events_skyhook.Muon[i].pt for i in range(len(events_skyhook.Muon)) if len(events_skyhook.Muon[i])]).to_numpy()"
   ]
  },
  {
   "cell_type": "code",
   "execution_count": null,
   "id": "6264b2cf-42ec-4698-ac17-880213156e72",
   "metadata": {},
   "outputs": [],
   "source": []
  }
 ],
 "metadata": {
  "kernelspec": {
   "display_name": "Python 3 (ipykernel)",
   "language": "python",
   "name": "python3"
  },
  "language_info": {
   "codemirror_mode": {
    "name": "ipython",
    "version": 3
   },
   "file_extension": ".py",
   "mimetype": "text/x-python",
   "name": "python",
   "nbconvert_exporter": "python",
   "pygments_lexer": "ipython3",
   "version": "3.8.12"
  }
 },
 "nbformat": 4,
 "nbformat_minor": 5
}
