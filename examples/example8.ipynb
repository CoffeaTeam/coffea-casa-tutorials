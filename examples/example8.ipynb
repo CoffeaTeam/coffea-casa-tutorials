{
 "cells": [
  {
   "cell_type": "markdown",
   "metadata": {},
   "source": [
    "# Coffea-Casa Benchmark Example 8"
   ]
  },
  {
   "cell_type": "code",
   "execution_count": 1,
   "metadata": {},
   "outputs": [],
   "source": [
    "import numpy as np\n",
    "%matplotlib inline\n",
    "import hist\n",
    "import coffea.processor as processor\n",
    "import awkward as ak\n",
    "from coffea.nanoevents import schemas"
   ]
  },
  {
   "cell_type": "code",
   "execution_count": 2,
   "metadata": {},
   "outputs": [],
   "source": [
    "# This program plots the transverse mass of MET and a third lepton, where the third lepton is associated with a lepton pair\n",
    "# that has the same flavor, opposite charge, and closest mass to 91.2.\n",
    "\n",
    "import math\n",
    "\n",
    "class Processor(processor.ProcessorABC):\n",
    "    def __init__(self):\n",
    "        dataset_axis = hist.axis.StrCategory(name=\"dataset\", label=\"\", categories=[], growth=True)\n",
    "        muon_axis = hist.axis.Regular(name=\"massT\", label=\"Transverse Mass [GeV]\", bins=50, start=15, stop=250)\n",
    "        \n",
    "        self.output = processor.dict_accumulator({\n",
    "            'massT': hist.Hist(dataset_axis, muon_axis),\n",
    "            'cutflow': processor.defaultdict_accumulator(int)\n",
    "        })\n",
    "    \n",
    "    def process(self, events):\n",
    "        dataset = events.metadata[\"dataset\"]\n",
    "        \n",
    "        # Keep track of muons and electrons by tagging them 0/1.\n",
    "        muons = ak.with_field(events.Muon, 0, 'flavor')\n",
    "        electrons = ak.with_field(events.Electron, 1, 'flavor')\n",
    "        MET = events.MET\n",
    "        \n",
    "        self.output['cutflow']['all events'] += ak.size(events.MET, axis=0)\n",
    "        \n",
    "        # A few reasonable muon and electron selection cuts\n",
    "        muons = muons[(muons.pt > 10) & (np.abs(muons.eta) < 2.4)]\n",
    "        electrons = electrons[(electrons.pt > 10) & (np.abs(electrons.eta) < 2.5)]\n",
    "        \n",
    "        self.output['cutflow']['all muons'] += ak.sum(ak.count(muons, axis=1))\n",
    "        self.output['cutflow']['all electrons'] += ak.sum(ak.count(electrons, axis=1))\n",
    "\n",
    "        # Stack muons and electrons into a single array.\n",
    "        leptons = ak.with_name(ak.concatenate([muons, electrons], axis=1), 'PtEtaPhiMCandidate')\n",
    "        \n",
    "        # Filter out events with less than 3 leptons.\n",
    "        trileptons = leptons[ak.num(leptons, axis=1) >= 3]\n",
    "        self.output['cutflow']['trileptons'] += ak.sum(ak.num(trileptons, axis=1))\n",
    "        \n",
    "        # Generate the indices of every pair; indices because we'll be removing these elements later.\n",
    "        lepton_pairs = ak.argcombinations(trileptons, 2, fields=['i0', 'i1'])\n",
    "        \n",
    "        # Select pairs that are SFOS.\n",
    "        SFOS_pairs = lepton_pairs[(trileptons[lepton_pairs['i0']].flavor == trileptons[lepton_pairs['i1']].flavor) & (trileptons[lepton_pairs['i0']].charge != trileptons[lepton_pairs['i1']].charge)]\n",
    "        \n",
    "        # Find the pair with mass closest to Z.\n",
    "        closest_pairs = SFOS_pairs[ak.local_index(SFOS_pairs) == ak.argmin(np.abs((trileptons[SFOS_pairs['i0']] + trileptons[SFOS_pairs['i1']]).mass - 91.2), axis=1)]\n",
    "        \n",
    "        # Make trileptons and closest_pairs have same shape. First, fill nones with empty arrays. Then filter out events that don't meet the pair requirement.\n",
    "        closest_pairs = ak.fill_none(closest_pairs, [], axis=0)\n",
    "        closest_pairs = closest_pairs[ak.num(closest_pairs) > 0]\n",
    "        trileptons = trileptons[ak.num(closest_pairs) > 0]\n",
    "        MET = MET[ak.num(closest_pairs) > 0]\n",
    "        \n",
    "        # Remove elements of the closest pairs from leptons, because we want the pt of the third lepton.\n",
    "        trileptons_no_pair = trileptons[(ak.local_index(trileptons) != ak.flatten(closest_pairs.i0)) & (ak.local_index(trileptons) != ak.flatten(closest_pairs.i1))]\n",
    "        \n",
    "        # Find the highest-pt lepton out of the ones that remain.\n",
    "        leading_lepton = trileptons_no_pair[ak.argmax(trileptons_no_pair.pt, axis=1)]\n",
    "        self.output['cutflow']['number of final leading leptons'] += ak.sum(ak.num(trileptons_no_pair, axis=1))\n",
    "        \n",
    "        # Cross MET with the leading lepton.\n",
    "        met_plus_lep = ak.cartesian({'i0': MET, 'i1': leading_lepton})\n",
    "        \n",
    "        # Do some math to get what we want.\n",
    "        dphi_met_lep = (met_plus_lep.i0.phi - met_plus_lep.i1.phi + math.pi) % (2*math.pi) - math.pi\n",
    "        mt_lep = np.sqrt(2.0*met_plus_lep.i0.pt*met_plus_lep.i1.pt*(1.0-np.cos(dphi_met_lep)))\n",
    "        \n",
    "        self.output['massT'].fill(dataset=dataset, massT=ak.flatten(mt_lep))\n",
    "        \n",
    "        return self.output\n",
    "\n",
    "    def postprocess(self, accumulator):\n",
    "        pass"
   ]
  },
  {
   "cell_type": "code",
   "execution_count": 3,
   "metadata": {},
   "outputs": [],
   "source": [
    "from dask.distributed import Client\n",
    "\n",
    "client = Client(\"tls://localhost:8786\")"
   ]
  },
  {
   "cell_type": "code",
   "execution_count": 4,
   "metadata": {},
   "outputs": [
    {
     "name": "stdout",
     "output_type": "stream",
     "text": [
      "[########################################] | 100% Completed |  3min 35.1s\r"
     ]
    },
    {
     "data": {
      "text/plain": [
       "{'bytesread': 9982563224,\n",
       " 'columns': ['Muon_pt',\n",
       "  'Electron_charge',\n",
       "  'MET_CovXY',\n",
       "  'Muon_phi',\n",
       "  'Muon_pfRelIso04_all',\n",
       "  'nMuon',\n",
       "  'Muon_charge',\n",
       "  'Muon_mass',\n",
       "  'nJet',\n",
       "  'Muon_softId',\n",
       "  'Muon_dzErr',\n",
       "  'Electron_dz',\n",
       "  'Muon_pfRelIso03_all',\n",
       "  'Electron_pfRelIso03_all',\n",
       "  'Muon_dz',\n",
       "  'Electron_dzErr',\n",
       "  'MET_pt',\n",
       "  'Electron_dxy',\n",
       "  'MET_CovXX',\n",
       "  'MET_phi',\n",
       "  'Muon_tightId',\n",
       "  'Electron_mass',\n",
       "  'Electron_phi',\n",
       "  'Electron_jetIdx',\n",
       "  'Electron_dxyErr',\n",
       "  'nElectron',\n",
       "  'Muon_dxy',\n",
       "  'Electron_eta',\n",
       "  'Electron_genPartIdx',\n",
       "  'MET_sumet',\n",
       "  'Electron_cutBasedId',\n",
       "  'Muon_eta',\n",
       "  'Muon_dxyErr',\n",
       "  'MET_significance',\n",
       "  'MET_CovYY',\n",
       "  'Electron_pt',\n",
       "  'Electron_pfId',\n",
       "  'Muon_jetIdx',\n",
       "  'Muon_genPartIdx'],\n",
       " 'entries': 53446198,\n",
       " 'processtime': 8462.17432808876,\n",
       " 'chunks': 534}"
      ]
     },
     "execution_count": 4,
     "metadata": {},
     "output_type": "execute_result"
    }
   ],
   "source": [
    "fileset = {'SingleMu' : [\"root://eospublic.cern.ch//eos/root-eos/benchmark/Run2012B_SingleMu.root\"]}\n",
    "\n",
    "executor = processor.DaskExecutor(client=client)\n",
    "\n",
    "run = processor.Runner(executor=executor,\n",
    "                        schema=schemas.NanoAODSchema,\n",
    "                        savemetrics=True\n",
    "                      )\n",
    "\n",
    "output, metrics = run(fileset, \"Events\", processor_instance=Processor())\n",
    "\n",
    "metrics"
   ]
  },
  {
   "cell_type": "code",
   "execution_count": 5,
   "metadata": {},
   "outputs": [
    {
     "data": {
      "text/plain": [
       "[StairsArtists(stairs=<matplotlib.patches.StepPatch object at 0x7f3be3fb4b50>, errorbar=None, legend_artist=None)]"
      ]
     },
     "execution_count": 5,
     "metadata": {},
     "output_type": "execute_result"
    },
    {
     "data": {
      "image/png": "[encoded data removed]",
      "text/plain": [
       "<Figure size 432x288 with 1 Axes>"
      ]
     },
     "metadata": {
      "needs_background": "light"
     },
     "output_type": "display_data"
    }
   ],
   "source": [
    "output['massT'].plot1d()"
   ]
  },
  {
   "cell_type": "code",
   "execution_count": 6,
   "metadata": {},
   "outputs": [
    {
     "name": "stdout",
     "output_type": "stream",
     "text": [
      "all events 53446198\n",
      "all muons 991421725\n",
      "all electrons 87391040\n",
      "trileptons 5043516\n",
      "number of final leading leptons 1227755\n"
     ]
    }
   ],
   "source": [
    "for key, value in output['cutflow'].items():\n",
    "    print(key, value)"
   ]
  }
 ],
 "metadata": {
  "kernelspec": {
   "display_name": "Python 3 (ipykernel)",
   "language": "python",
   "name": "python3"
  },
  "language_info": {
   "codemirror_mode": {
    "name": "ipython",
    "version": 3
   },
   "file_extension": ".py",
   "mimetype": "text/x-python",
   "name": "python",
   "nbconvert_exporter": "python",
   "pygments_lexer": "ipython3",
   "version": "3.8.13"
  }
 },
 "nbformat": 4,
 "nbformat_minor": 4
}
