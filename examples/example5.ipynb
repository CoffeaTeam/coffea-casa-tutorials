{
 "cells": [
  {
   "cell_type": "markdown",
   "metadata": {},
   "source": [
    "# Coffea-Casa Benchmark Example 5"
   ]
  },
  {
   "cell_type": "code",
   "execution_count": 1,
   "metadata": {},
   "outputs": [],
   "source": [
    "import numpy as np\n",
    "%matplotlib inline\n",
    "import hist\n",
    "import coffea.processor as processor\n",
    "import awkward as ak\n",
    "from coffea.nanoevents import schemas"
   ]
  },
  {
   "cell_type": "code",
   "execution_count": 2,
   "metadata": {},
   "outputs": [],
   "source": [
    "# This program will plot the MET for events which have an opposite-sign muon pair that has mass in the range of 60-120 GeV.\n",
    "\n",
    "class Processor(processor.ProcessorABC):\n",
    "    def __init__(self):\n",
    "        dataset_axis = hist.axis.StrCategory(name=\"dataset\", label=\"\", categories=[], growth=True)\n",
    "        MET_axis = hist.axis.Regular(name=\"MET\", label=\"MET [GeV]\", bins=50, start=0, stop=125)\n",
    "        \n",
    "        self.output = processor.dict_accumulator({\n",
    "            'MET': hist.Hist(dataset_axis, MET_axis),\n",
    "            'cutflow': processor.defaultdict_accumulator(int)\n",
    "        })\n",
    "\n",
    "    def process(self, events):\n",
    "        dataset = events.metadata[\"dataset\"]\n",
    "        \n",
    "        muons = events.Muon\n",
    "        MET = events.MET.pt\n",
    "        \n",
    "        self.output['cutflow']['all events'] += ak.size(muons, axis=0)\n",
    "        self.output['cutflow']['all muons'] += ak.sum(ak.num(muons, axis=1))\n",
    "        \n",
    "        # Get all combinations of muon pairs in every event.\n",
    "        dimuons = ak.combinations(muons, 2, fields=['i0', 'i1'])\n",
    "        \n",
    "        # Check that pairs have opposite charge.\n",
    "        opposites = (dimuons['i0'].charge != dimuons['i1'].charge)\n",
    "        \n",
    "        # Get only muons with mass between 60 and 120. Add the dimuon p4's, take mass.\n",
    "        limits = ((dimuons['i0'] + dimuons['i1']).mass >= 60) & ((dimuons['i0'] + dimuons['i1']).mass < 120)\n",
    "        \n",
    "        # Mask the dimuons with the opposites and the limits to get dimuons with opposite charge and mass between 60 and 120 GeV.\n",
    "        good_dimuons = dimuons[opposites & limits]\n",
    "        \n",
    "        # Mask the MET to get it only if an associated dimuon pair meeting the conditions exists.\n",
    "        good_MET = MET[ak.num(good_dimuons, axis=1) >= 1]\n",
    "        \n",
    "        self.output['cutflow']['final events'] += ak.size(good_MET, axis=0)\n",
    "        \n",
    "        self.output['MET'].fill(dataset=dataset, MET=good_MET)\n",
    "        \n",
    "        return self.output\n",
    "\n",
    "    def postprocess(self, accumulator):\n",
    "        pass"
   ]
  },
  {
   "cell_type": "code",
   "execution_count": 3,
   "metadata": {},
   "outputs": [],
   "source": [
    "from dask.distributed import Client\n",
    "\n",
    "client = Client(\"tls://localhost:8786\")"
   ]
  },
  {
   "cell_type": "code",
   "execution_count": 4,
   "metadata": {},
   "outputs": [
    {
     "name": "stdout",
     "output_type": "stream",
     "text": [
      "[########################################] | 100% Completed |  1min 14.3s\r"
     ]
    },
    {
     "data": {
      "text/plain": [
       "{'bytesread': 2802762505,\n",
       " 'columns': ['Muon_mass',\n",
       "  'Muon_charge',\n",
       "  'Muon_eta',\n",
       "  'Muon_pt',\n",
       "  'nMuon',\n",
       "  'Muon_phi',\n",
       "  'MET_pt'],\n",
       " 'entries': 53446198,\n",
       " 'processtime': 1935.6513311862946,\n",
       " 'chunks': 534}"
      ]
     },
     "execution_count": 4,
     "metadata": {},
     "output_type": "execute_result"
    }
   ],
   "source": [
    "fileset = {'SingleMu' : [\"root://eospublic.cern.ch//eos/root-eos/benchmark/Run2012B_SingleMu.root\"]}\n",
    "\n",
    "executor = processor.DaskExecutor(client=client)\n",
    "\n",
    "run = processor.Runner(executor=executor,\n",
    "                        schema=schemas.NanoAODSchema,\n",
    "                        savemetrics=True\n",
    "                      )\n",
    "\n",
    "output, metrics = run(fileset, \"Events\", processor_instance=Processor())\n",
    "\n",
    "metrics"
   ]
  },
  {
   "cell_type": "code",
   "execution_count": 5,
   "metadata": {},
   "outputs": [
    {
     "data": {
      "text/plain": [
       "[StairsArtists(stairs=<matplotlib.patches.StepPatch object at 0x7f789caf7f40>, errorbar=None, legend_artist=None)]"
      ]
     },
     "execution_count": 5,
     "metadata": {},
     "output_type": "execute_result"
    },
    {
     "data": {
      "image/png": "[encoded data removed]",
      "text/plain": [
       "<Figure size 432x288 with 1 Axes>"
      ]
     },
     "metadata": {
      "needs_background": "light"
     },
     "output_type": "display_data"
    }
   ],
   "source": [
    "output['MET'].plot1d()"
   ]
  },
  {
   "cell_type": "code",
   "execution_count": 6,
   "metadata": {},
   "outputs": [
    {
     "name": "stdout",
     "output_type": "stream",
     "text": [
      "all events 53446198\n",
      "all muons 74439173\n",
      "final events 2970884\n"
     ]
    }
   ],
   "source": [
    "for key, value in output['cutflow'].items():\n",
    "    print(key, value)"
   ]
  }
 ],
 "metadata": {
  "kernelspec": {
   "display_name": "Python 3 (ipykernel)",
   "language": "python",
   "name": "python3"
  },
  "language_info": {
   "codemirror_mode": {
    "name": "ipython",
    "version": 3
   },
   "file_extension": ".py",
   "mimetype": "text/x-python",
   "name": "python",
   "nbconvert_exporter": "python",
   "pygments_lexer": "ipython3",
   "version": "3.8.13"
  }
 },
 "nbformat": 4,
 "nbformat_minor": 4
}
